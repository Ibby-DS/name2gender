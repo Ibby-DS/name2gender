{
 "cells": [
  {
   "cell_type": "code",
   "execution_count": 1,
   "metadata": {},
   "outputs": [],
   "source": [
    "from data_util import *"
   ]
  },
  {
   "cell_type": "code",
   "execution_count": 2,
   "metadata": {},
   "outputs": [],
   "source": [
    "DATASET = PROJECT_DIR + \"data/name_gender_dataset.csv\" # this is the preshuffled dataset\n",
    "WEIGHTS = PROJECT_DIR + \"weights/nb/naive_bayes_weights_jup\"\n"
   ]
  },
  {
   "cell_type": "code",
   "execution_count": 3,
   "metadata": {
    "collapsed": true
   },
   "outputs": [],
   "source": [
    "# split the dataset into 70% train, 0%  val, 30% test\n",
    "TRAINSET, VALSET, TESTSET = split_dataset(0.7,0)"
   ]
  },
  {
   "cell_type": "markdown",
   "metadata": {},
   "source": [
    "# Train the model "
   ]
  },
  {
   "cell_type": "code",
   "execution_count": 4,
   "metadata": {
    "collapsed": true
   },
   "outputs": [],
   "source": [
    "from train import train"
   ]
  },
  {
   "cell_type": "code",
   "execution_count": 5,
   "metadata": {},
   "outputs": [
    {
     "name": "stdout",
     "output_type": "stream",
     "text": [
      "Training Naive Bayes Classifer on 94948 examples (00h 00m 00s)\n",
      "Training complete. (00h 01m 09s)\n",
      "Weights saved to \"/u1/elbrown/name2gender/weights/nb/naive_bayes_weights\"\n"
     ]
    }
   ],
   "source": [
    "train(TRAINSET, VALSET, WEIGHTS)"
   ]
  },
  {
   "cell_type": "markdown",
   "metadata": {},
   "source": [
    "# Test the model"
   ]
  },
  {
   "cell_type": "code",
   "execution_count": 6,
   "metadata": {
    "collapsed": true
   },
   "outputs": [],
   "source": [
    "from test import test"
   ]
  },
  {
   "cell_type": "code",
   "execution_count": 7,
   "metadata": {},
   "outputs": [
    {
     "name": "stdout",
     "output_type": "stream",
     "text": [
      "Testing Naive Bayes Classifer on 40692 examples (00h 00m 00s)\n",
      "Testing accuracy is 84.84% on 40692 examples (00h 01m 13s)\n"
     ]
    },
    {
     "data": {
      "text/plain": [
       "0.8483731445984468"
      ]
     },
     "execution_count": 7,
     "metadata": {},
     "output_type": "execute_result"
    }
   ],
   "source": [
    "test(TESTSET, WEIGHTS)"
   ]
  },
  {
   "cell_type": "raw",
   "metadata": {},
   "source": [
    "We get an accuracy of ~85%. Not bad in general for a quick Naive Bayes implementation. Considering that names do not always correlate directly with one gender, this seems to be a nearly as good as we could hope to perform on this task."
   ]
  },
  {
   "cell_type": "markdown",
   "metadata": {},
   "source": [
    "# Classify names using the model"
   ]
  },
  {
   "cell_type": "code",
   "execution_count": 8,
   "metadata": {
    "collapsed": true
   },
   "outputs": [],
   "source": [
    "from classify import classify, read_names, write_classifications"
   ]
  },
  {
   "cell_type": "markdown",
   "metadata": {},
   "source": [
    "## classify names"
   ]
  },
  {
   "cell_type": "code",
   "execution_count": 9,
   "metadata": {
    "collapsed": true
   },
   "outputs": [],
   "source": [
    "names = ['Ellis', 'Mike','Michael', 'Infant', 'Youxun', 'Tullika']"
   ]
  },
  {
   "cell_type": "code",
   "execution_count": 10,
   "metadata": {},
   "outputs": [
    {
     "name": "stdout",
     "output_type": "stream",
     "text": [
      "Ellis -> male (87.07%)\n",
      "Mike -> female (77.83%)\n",
      "Michael -> male (96.23%)\n",
      "Infant -> male (99.88%)\n",
      "Youxun -> male (100.00%)\n",
      "Tullika -> female (100.00%)\n",
      "\n",
      "Classified 6 names (00h 01m 14s)\n"
     ]
    }
   ],
   "source": [
    "classify(names, WEIGHTS)"
   ]
  },
  {
   "cell_type": "raw",
   "metadata": {},
   "source": [
    "Note that we predicted \"Mike\" to be a female with decent certainty.... the model is clearly not perfect"
   ]
  },
  {
   "cell_type": "markdown",
   "metadata": {},
   "source": [
    "### load names from file"
   ]
  },
  {
   "cell_type": "code",
   "execution_count": 11,
   "metadata": {
    "collapsed": true
   },
   "outputs": [],
   "source": [
    "NAMES_FILE = \"team.txt\""
   ]
  },
  {
   "cell_type": "code",
   "execution_count": 12,
   "metadata": {},
   "outputs": [
    {
     "name": "stdout",
     "output_type": "stream",
     "text": [
      "Loaded 6 names from team.txt\n",
      "youxun -> male (100.00%)\n",
      "harini -> female (99.19%)\n",
      "infant -> male (99.88%)\n",
      "gaurav -> male (100.00%)\n",
      "yinping -> male (100.00%)\n",
      "sriannapurna -> female (100.00%)\n",
      "\n",
      "Classified 6 names (00h 01m 15s)\n"
     ]
    }
   ],
   "source": [
    "names = read_names(NAMES_FILE)\n",
    "classify(names, WEIGHTS)"
   ]
  },
  {
   "cell_type": "markdown",
   "metadata": {},
   "source": [
    "### write classifications to CSV\n",
    "We can write the output of classification of a set of names to a csv file.\n",
    "\n",
    "**Format:**\n",
    "name, predicted gender, confidence %"
   ]
  },
  {
   "cell_type": "code",
   "execution_count": 13,
   "metadata": {},
   "outputs": [],
   "source": [
    "OUTFILE = \"out.csv\""
   ]
  },
  {
   "cell_type": "code",
   "execution_count": 14,
   "metadata": {},
   "outputs": [
    {
     "name": "stdout",
     "output_type": "stream",
     "text": [
      "youxun -> male (100.00%)\n",
      "harini -> female (99.19%)\n",
      "infant -> male (99.88%)\n",
      "gaurav -> male (100.00%)\n",
      "yinping -> male (100.00%)\n",
      "sriannapurna -> female (100.00%)\n",
      "\n",
      "Wrote 6 names to \"out.csv\" (00h 01m 15s)\n"
     ]
    }
   ],
   "source": [
    "write_classifications(names, WEIGHTS, OUTFILE)"
   ]
  }
 ],
 "metadata": {
  "kernelspec": {
   "display_name": "Python [conda env:jupyter-atp]",
   "language": "python",
   "name": "conda-env-jupyter-atp-py"
  },
  "language_info": {
   "codemirror_mode": {
    "name": "ipython",
    "version": 3
   },
   "file_extension": ".py",
   "mimetype": "text/x-python",
   "name": "python",
   "nbconvert_exporter": "python",
   "pygments_lexer": "ipython3",
   "version": "3.5.4"
  }
 },
 "nbformat": 4,
 "nbformat_minor": 2
}
