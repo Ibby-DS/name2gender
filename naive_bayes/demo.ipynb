{
 "cells": [
  {
   "cell_type": "code",
   "execution_count": 1,
   "metadata": {
    "collapsed": true
   },
   "outputs": [],
   "source": [
    "from data_util import *"
   ]
  },
  {
   "cell_type": "code",
   "execution_count": 2,
   "metadata": {
    "collapsed": true
   },
   "outputs": [],
   "source": [
    "DATASET = PROJECT_DIR + \"data/name_gender_dataset.csv\" # this is the preshuffled dataset\n",
    "WEIGHTS = PROJECT_DIR + \"weights/nb/naive_bayes_weights_jup\""
   ]
  },
  {
   "cell_type": "code",
   "execution_count": 3,
   "metadata": {
    "collapsed": true
   },
   "outputs": [],
   "source": [
    "# split the dataset into 70% train, 0%  val, 30% test\n",
    "TRAINSET, VALSET, TESTSET = split_dataset(0.7,0)"
   ]
  },
  {
   "cell_type": "markdown",
   "metadata": {},
   "source": [
    "# Train the model "
   ]
  },
  {
   "cell_type": "code",
   "execution_count": 4,
   "metadata": {},
   "outputs": [],
   "source": [
    "from train import train"
   ]
  },
  {
   "cell_type": "code",
   "execution_count": 5,
   "metadata": {},
   "outputs": [
    {
     "name": "stdout",
     "output_type": "stream",
     "text": [
      "Training Naive Bayes Classifer on 94948 examples (00h 00m 00s)\n",
      "Training complete. (00h 00m 05s)\n",
      "Weights saved to \"/home/elb/workspace/name2gender/weights/nb/naive_bayes_weights\"\n"
     ]
    }
   ],
   "source": [
    "train(TRAINSET, VALSET, WEIGHTS)"
   ]
  },
  {
   "cell_type": "markdown",
   "metadata": {},
   "source": [
    "# Test the model"
   ]
  },
  {
   "cell_type": "code",
   "execution_count": 6,
   "metadata": {
    "collapsed": true
   },
   "outputs": [],
   "source": [
    "from test import test"
   ]
  },
  {
   "cell_type": "code",
   "execution_count": 7,
   "metadata": {},
   "outputs": [
    {
     "name": "stdout",
     "output_type": "stream",
     "text": [
      "Testing Naive Bayes Classifer on 40692 examples (00h 00m 00s)\n",
      "Testing accuracy is 85.01% on 40692 examples (00h 00m 05s)\n"
     ]
    },
    {
     "data": {
      "text/plain": [
       "0.8501179593040401"
      ]
     },
     "execution_count": 7,
     "metadata": {},
     "output_type": "execute_result"
    }
   ],
   "source": [
    "test(TESTSET, WEIGHTS)"
   ]
  },
  {
   "cell_type": "raw",
   "metadata": {},
   "source": [
    "We get an accuracy of ~85%. Not bad in general for a quick Naive Bayes implementation. Considering that names do not always correlate directly with one gender, this seems to be a nearly as good as we could hope to perform on this task."
   ]
  },
  {
   "cell_type": "markdown",
   "metadata": {},
   "source": [
    "# Classify names using the model"
   ]
  },
  {
   "cell_type": "code",
   "execution_count": 8,
   "metadata": {
    "collapsed": true
   },
   "outputs": [],
   "source": [
    "from classify import classify, read_names, write_classifications"
   ]
  },
  {
   "cell_type": "markdown",
   "metadata": {},
   "source": [
    "## classify names"
   ]
  },
  {
   "cell_type": "code",
   "execution_count": 9,
   "metadata": {
    "collapsed": true
   },
   "outputs": [],
   "source": [
    "names = ['Ellis', 'Elise', 'Mike','Michael', 'Infant', 'Youxun', 'Marnie']"
   ]
  },
  {
   "cell_type": "code",
   "execution_count": 10,
   "metadata": {},
   "outputs": [
    {
     "name": "stdout",
     "output_type": "stream",
     "text": [
      "Ellis -> male (82.10%)\n",
      "Elise -> female (99.96%)\n",
      "Mike -> female (69.65%)\n",
      "Michael -> male (97.95%)\n",
      "Infant -> male (99.92%)\n",
      "Youxun -> male (100.00%)\n",
      "Marnie -> female (99.19%)\n",
      "\n",
      "Classified 7 names (00h 00m 05s)\n"
     ]
    }
   ],
   "source": [
    "classify(names, WEIGHTS)"
   ]
  },
  {
   "cell_type": "raw",
   "metadata": {},
   "source": [
    "Note that we predicted \"Mike\" to be a female with decent certainty.... the model is clearly not perfect"
   ]
  },
  {
   "cell_type": "markdown",
   "metadata": {},
   "source": [
    "### load names from file"
   ]
  },
  {
   "cell_type": "code",
   "execution_count": 11,
   "metadata": {
    "collapsed": true
   },
   "outputs": [],
   "source": [
    "NAMES_FILE = \"fam.txt\""
   ]
  },
  {
   "cell_type": "code",
   "execution_count": 12,
   "metadata": {},
   "outputs": [
    {
     "name": "stdout",
     "output_type": "stream",
     "text": [
      "Loaded 6 names from fam.txt\n",
      "john -> male (100.00%)\n",
      "amy -> female (83.66%)\n",
      "marnie -> female (99.19%)\n",
      "ellis -> male (82.10%)\n",
      "evan -> male (99.77%)\n",
      "isla -> female (100.00%)\n",
      "\n",
      "Classified 6 names (00h 00m 05s)\n"
     ]
    }
   ],
   "source": [
    "names = read_names(NAMES_FILE)\n",
    "classify(names, WEIGHTS)"
   ]
  },
  {
   "cell_type": "markdown",
   "metadata": {},
   "source": [
    "### write classifications to CSV\n",
    "We can write the output of classification of a set of names to a csv file.\n",
    "\n",
    "**Format:**\n",
    "name, predicted gender, confidence %"
   ]
  },
  {
   "cell_type": "code",
   "execution_count": 13,
   "metadata": {
    "collapsed": true
   },
   "outputs": [],
   "source": [
    "OUTFILE = \"out.csv\""
   ]
  },
  {
   "cell_type": "code",
   "execution_count": 14,
   "metadata": {},
   "outputs": [
    {
     "name": "stdout",
     "output_type": "stream",
     "text": [
      "john -> male (100.00%)\n",
      "amy -> female (83.66%)\n",
      "marnie -> female (99.19%)\n",
      "ellis -> male (82.10%)\n",
      "evan -> male (99.77%)\n",
      "isla -> female (100.00%)\n",
      "\n",
      "Wrote 6 names to \"out.csv\" (00h 00m 05s)\n"
     ]
    }
   ],
   "source": [
    "write_classifications(names, WEIGHTS, OUTFILE)"
   ]
  },
  {
   "cell_type": "code",
   "execution_count": null,
   "metadata": {
    "collapsed": true
   },
   "outputs": [],
   "source": []
  }
 ],
 "metadata": {
  "kernelspec": {
   "display_name": "Python 3",
   "language": "python",
   "name": "python3"
  },
  "language_info": {
   "codemirror_mode": {
    "name": "ipython",
    "version": 3
   },
   "file_extension": ".py",
   "mimetype": "text/x-python",
   "name": "python",
   "nbconvert_exporter": "python",
   "pygments_lexer": "ipython3",
   "version": "3.6.3"
  }
 },
 "nbformat": 4,
 "nbformat_minor": 2
}
