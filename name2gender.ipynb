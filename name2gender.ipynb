{
 "cells": [
  {
   "cell_type": "code",
   "execution_count": 27,
   "metadata": {
    "collapsed": true
   },
   "outputs": [],
   "source": [
    "import random\n",
    "import csv\n",
    "import string\n",
    "import math\n",
    "import nltk\n",
    "from nltk.corpus import names\n",
    "from nltk.classify import apply_features\n",
    "import numpy as np\n",
    "# import torch\n",
    "# import torch.nn as nn\n"
   ]
  },
  {
   "cell_type": "code",
   "execution_count": 99,
   "metadata": {},
   "outputs": [],
   "source": [
    "def loadNames():\n",
    "    filename = \"nltk_mbejda_blk_mfran.csv\"\n",
    "    names = []\n",
    "    genders = []\n",
    " \n",
    "    with open(filename) as csvDataFile:\n",
    "        csvReader = csv.reader(csvDataFile)\n",
    "        for row in csvReader:\n",
    "            names.append(row[0])\n",
    "            genders.append(row[1])\n",
    "\n",
    "    return names, genders\n",
    "\n",
    "def loadDataset(shuffled=True):\n",
    "    \"\"\"Returns the name->gender dataset ready for processing\n",
    "    \n",
    "    Args:\n",
    "        shuffled (Boolean, optional): set to False to return the dataset unshuffled\n",
    "    Ret:\n",
    "        namelist (list(String,String)): list of (name, gender) records\n",
    "    \"\"\"\n",
    "    nms,gns = loadNames()\n",
    "    namelist = list(zip(nms,gns))\n",
    "    if shuffled:\n",
    "        random.shuffle(namelist)\n",
    "    return namelist"
   ]
  },
  {
   "cell_type": "code",
   "execution_count": 89,
   "metadata": {
    "collapsed": true
   },
   "outputs": [],
   "source": [
    "def _gender_features(name):\n",
    "    features = {}\n",
    "    features[\"last_letter\"] = name[-1].lower()\n",
    "    features[\"first_letter\"] = name[0].lower()\n",
    "    for letter in string.ascii_lowercase:\n",
    "        features[\"count(%s)\" % letter] = name.lower().count(letter)\n",
    "        features[\"has(%s)\" % letter] = (letter in name.lower())\n",
    "    # names ending in -yn are mostly female, names ending in -ch ar mostly male, so add 2 more features\n",
    "    features[\"suffix2\"] = name[-2:]\n",
    "    features[\"suffix3\"] = name[-3:]\n",
    "    features[\"suffix4\"] = name[-4:]\n",
    "    return features"
   ]
  },
  {
   "cell_type": "code",
   "execution_count": 49,
   "metadata": {
    "collapsed": true
   },
   "outputs": [],
   "source": [
    "def old_naive_bayes_gender_classifier(train):\n",
    "    \"\"\"trains classifier on name->gender\n",
    "    \n",
    "    Args:\n",
    "        train: % of examples to train with (e.g., 0.8)\n",
    "    \"\"\"\n",
    "    \n",
    "    # get name lists\n",
    "    male_names = names.words('male.txt')\n",
    "    female_names = names.words('female.txt')\n",
    "    labeled_names = ([(name, 'male') for name in male_names] + [(name, 'female') for name in female_names])\n",
    "    random.shuffle(labeled_names)\n",
    "    \n",
    "    divider = int(len(labeled_names) * train)\n",
    "    train_set = apply_features(_gender_features, labeled_names[divider:])\n",
    "    test_set = apply_features(_gender_features, labeled_names[:divider])\n",
    "    \n",
    "    classifier = nltk.NaiveBayesClassifier.train(train_set)\n",
    "    acc = nltk.classify.accuracy(classifier, test_set)\n",
    "    print(\"test: \" + str(train) + \", acc: \" + str(acc))\n",
    "#     classifier.show_most_informative_features(5)\n",
    "    return acc"
   ]
  },
  {
   "cell_type": "code",
   "execution_count": null,
   "metadata": {
    "collapsed": true
   },
   "outputs": [],
   "source": [
    "def naive_bayes_gender_classifier(train):\n",
    "    \"\"\"trains classifier on name->gender\n",
    "    \n",
    "    Args:\n",
    "        train: % of examples to train with (e.g., 0.8)\n",
    "    \"\"\"\n",
    "    \n",
    "    # get name lists\n",
    "    labeled_names = loadDataset()\n",
    "    \n",
    "    divider = int(len(labeled_names) * train)\n",
    "    train_set = apply_features(_gender_features, labeled_names[divider:])\n",
    "    test_set = apply_features(_gender_features, labeled_names[:divider])\n",
    "    \n",
    "    classifier = nltk.NaiveBayesClassifier.train(train_set)\n",
    "    acc = nltk.classify.accuracy(classifier, test_set)\n",
    "    print(\"test: \" + str(train) + \", acc: \" + str(acc))\n",
    "#     classifier.show_most_informative_features(5)\n",
    "    return acc"
   ]
  },
  {
   "cell_type": "code",
   "execution_count": 100,
   "metadata": {},
   "outputs": [
    {
     "name": "stdout",
     "output_type": "stream",
     "text": [
      "test: 0.5, acc: 0.8472279563550575\n"
     ]
    },
    {
     "data": {
      "text/plain": [
       "0.8472279563550575"
      ]
     },
     "execution_count": 100,
     "metadata": {},
     "output_type": "execute_result"
    }
   ],
   "source": [
    "naive_bayes_gender_classifier(0.5)"
   ]
  },
  {
   "cell_type": "code",
   "execution_count": 94,
   "metadata": {},
   "outputs": [
    {
     "name": "stdout",
     "output_type": "stream",
     "text": [
      "test: 0.6, acc: 0.8490871951997957\n",
      "test: 0.6, acc: 0.846355164049534\n",
      "test: 0.6, acc: 0.8489084641899656\n",
      "test: 0.6, acc: 0.8484871696667944\n",
      "test: 0.6, acc: 0.8489084641899656\n",
      "test: 0.65, acc: 0.8487808902035189\n",
      "test: 0.65, acc: 0.8472842546872974\n",
      "test: 0.65, acc: 0.8477202823573777\n",
      "test: 0.65, acc: 0.8459761716770567\n",
      "test: 0.65, acc: 0.8461647241830373\n",
      "test: 0.7000000000000001, acc: 0.8460469442468677\n",
      "test: 0.7000000000000001, acc: 0.8459594025277671\n",
      "test: 0.7000000000000001, acc: 0.8467253925698965\n",
      "test: 0.7000000000000001, acc: 0.8461673141106308\n",
      "test: 0.7000000000000001, acc: 0.8461344859659682\n",
      "test: 0.75, acc: 0.8446870659367596\n",
      "test: 0.75, acc: 0.8447789852112101\n",
      "test: 0.75, acc: 0.8455756189231146\n",
      "test: 0.75, acc: 0.8455551924176812\n",
      "test: 0.75, acc: 0.8457696707247324\n"
     ]
    }
   ],
   "source": [
    "accuracies = {}\n",
    "for i in range(60,79,5):\n",
    "    cum = 0\n",
    "    num = 5\n",
    "    for j in range(num):\n",
    "        cum += naive_bayes_gender_classifier(i * 0.01)\n",
    "    accuracies[i] = cum / num"
   ]
  },
  {
   "cell_type": "code",
   "execution_count": 95,
   "metadata": {},
   "outputs": [
    {
     "data": {
      "text/plain": [
       "{60: 0.848349291459211,\n",
       " 65: 0.8471852646216576,\n",
       " 70: 0.8462067078842261,\n",
       " 75: 0.8452733066426996}"
      ]
     },
     "execution_count": 95,
     "metadata": {},
     "output_type": "execute_result"
    }
   ],
   "source": [
    "accuracies"
   ]
  },
  {
   "cell_type": "code",
   "execution_count": 92,
   "metadata": {},
   "outputs": [
    {
     "data": {
      "text/plain": [
       "{60: 0.8368415677262862,\n",
       " 65: 0.8370576381441719,\n",
       " 70: 0.836644963615473,\n",
       " 75: 0.8355707165618107,\n",
       " 80: 0.8356970509383377,\n",
       " 85: 0.8348409887624249}"
      ]
     },
     "execution_count": 92,
     "metadata": {},
     "output_type": "execute_result"
    }
   ],
   "source": [
    "old_accuracies"
   ]
  },
  {
   "cell_type": "code",
   "execution_count": 3,
   "metadata": {
    "collapsed": true
   },
   "outputs": [],
   "source": [
    "male_names = names.words('male.txt')\n",
    "female_names = names.words('female.txt')\n",
    "labeled_names = ([(name, 'male') for name in male_names] + [(name, 'female') for name in female_names])"
   ]
  },
  {
   "cell_type": "code",
   "execution_count": 4,
   "metadata": {},
   "outputs": [
    {
     "data": {
      "text/plain": [
       "7944"
      ]
     },
     "execution_count": 4,
     "metadata": {},
     "output_type": "execute_result"
    }
   ],
   "source": [
    "len(labeled_names)"
   ]
  },
  {
   "cell_type": "code",
   "execution_count": 62,
   "metadata": {},
   "outputs": [],
   "source": [
    "# classify a single person's name\n",
    "male_names = names.words('male.txt')\n",
    "female_names = names.words('female.txt')\n",
    "labeled_names = ([(name, 'male') for name in male_names] + [(name, 'female') for name in female_names])\n",
    "random.shuffle(labeled_names)\n",
    "\n",
    "labeled_names = loadDataset()\n",
    "\n",
    "divider = int(60)\n",
    "train_set = apply_features(_gender_features, labeled_names[divider:])\n",
    "test_set = apply_features(_gender_features, labeled_names[:divider])\n",
    "\n",
    "classifier = nltk.NaiveBayesClassifier.train(train_set)\n"
   ]
  },
  {
   "cell_type": "code",
   "execution_count": 88,
   "metadata": {},
   "outputs": [
    {
     "data": {
      "text/plain": [
       "'female'"
      ]
     },
     "execution_count": 88,
     "metadata": {},
     "output_type": "execute_result"
    }
   ],
   "source": [
    "classifier.classify(_gender_features(\"elijah\"))"
   ]
  },
  {
   "cell_type": "code",
   "execution_count": 55,
   "metadata": {},
   "outputs": [],
   "source": [
    "def comparison_classifier(train):\n",
    "    \"\"\"trains classifier on name->gender\n",
    "    \n",
    "    Args:\n",
    "        train: % of examples to train with (e.g., 0.8)\n",
    "    \"\"\"\n",
    "    \n",
    "    # get name lists\n",
    "    male_names = names.words('male.txt')\n",
    "    female_names = names.words('female.txt')\n",
    "    labeled_names = ([(name, 'male') for name in male_names] + [(name, 'female') for name in female_names])\n",
    "    random.shuffle(labeled_names)\n",
    "    \n",
    "    divider = int(len(labeled_names) * train)\n",
    "    train_set = apply_features(_gender_features,labeled_names)\n",
    "    test_set = apply_features(_gender_features, loadDataset())\n",
    "    \n",
    "    classifier = nltk.NaiveBayesClassifier.train(train_set)\n",
    "    acc = nltk.classify.accuracy(classifier, test_set)\n",
    "    print(\"test: \" + str(train) + \", acc: \" + str(acc))\n",
    "#     classifier.show_most_informative_features(5)\n",
    "    return acc"
   ]
  },
  {
   "cell_type": "code",
   "execution_count": 56,
   "metadata": {
    "collapsed": true
   },
   "outputs": [],
   "source": [
    "def comparison_classifier2(train):\n",
    "    \"\"\"trains classifier on name->gender\n",
    "    \n",
    "    Args:\n",
    "        train: % of examples to train with (e.g., 0.8)\n",
    "    \"\"\"\n",
    "    \n",
    "    # get name lists\n",
    "    male_names = names.words('male.txt')\n",
    "    female_names = names.words('female.txt')\n",
    "    labeled_names = ([(name, 'male') for name in male_names] + [(name, 'female') for name in female_names])\n",
    "    random.shuffle(labeled_names)\n",
    "    \n",
    "    divider = int(len(labeled_names) * train)\n",
    "    train_set = apply_features(_gender_features,loadDataset())\n",
    "    test_set = apply_features(_gender_features, labeled_names)\n",
    "    \n",
    "    classifier = nltk.NaiveBayesClassifier.train(train_set)\n",
    "    acc = nltk.classify.accuracy(classifier, test_set)\n",
    "    print(\"test: \" + str(train) + \", acc: \" + str(acc))\n",
    "#     classifier.show_most_informative_features(5)\n",
    "    return acc"
   ]
  },
  {
   "cell_type": "code",
   "execution_count": 96,
   "metadata": {},
   "outputs": [
    {
     "name": "stdout",
     "output_type": "stream",
     "text": [
      "test: 65, acc: 0.8111451551129836\n"
     ]
    },
    {
     "data": {
      "text/plain": [
       "0.8111451551129836"
      ]
     },
     "execution_count": 96,
     "metadata": {},
     "output_type": "execute_result"
    }
   ],
   "source": [
    "comparison_classifier(65)"
   ]
  },
  {
   "cell_type": "code",
   "execution_count": 97,
   "metadata": {},
   "outputs": [
    {
     "name": "stdout",
     "output_type": "stream",
     "text": [
      "test: 65, acc: 0.8021148036253777\n"
     ]
    },
    {
     "data": {
      "text/plain": [
       "0.8021148036253777"
      ]
     },
     "execution_count": 97,
     "metadata": {},
     "output_type": "execute_result"
    }
   ],
   "source": [
    "comparison_classifier2(65)"
   ]
  },
  {
   "cell_type": "code",
   "execution_count": 80,
   "metadata": {
    "collapsed": true
   },
   "outputs": [],
   "source": [
    "def test_classifier(train):\n",
    "    \"\"\"trains classifier on name->gender\n",
    "    \n",
    "    Args:\n",
    "        train: % of examples to train with (e.g., 0.8)\n",
    "    \"\"\"\n",
    "    \n",
    "    # get name lists\n",
    "    male_names = names.words('male.txt')\n",
    "    female_names = names.words('female.txt')\n",
    "    labeled_names = ([(name, 'male') for name in male_names] + [(name, 'female') for name in female_names])\n",
    "    random.shuffle(labeled_names)\n",
    "    \n",
    "    divider = int(len(labeled_names) * train)\n",
    "    train_set = apply_features(_gender_features, loadDataset())\n",
    "    test_set = apply_features(_gender_features, loadDataset())\n",
    "    \n",
    "    classifier = nltk.NaiveBayesClassifier.train(train_set)\n",
    "    acc = nltk.classify.accuracy(classifier, test_set)\n",
    "    print(\"test: \" + str(train) + \", acc: \" + str(acc))\n",
    "#     classifier.show_most_informative_features(5)\n",
    "    return acc"
   ]
  },
  {
   "cell_type": "code",
   "execution_count": 98,
   "metadata": {},
   "outputs": [
    {
     "name": "stdout",
     "output_type": "stream",
     "text": [
      "test: 65, acc: 0.8649789352738414\n"
     ]
    },
    {
     "data": {
      "text/plain": [
       "0.8649789352738414"
      ]
     },
     "execution_count": 98,
     "metadata": {},
     "output_type": "execute_result"
    }
   ],
   "source": [
    "test_classifier(65)"
   ]
  },
  {
   "cell_type": "code",
   "execution_count": 82,
   "metadata": {},
   "outputs": [
    {
     "name": "stdout",
     "output_type": "stream",
     "text": [
      "test: 65, acc: 0.8417081577939487\n"
     ]
    },
    {
     "data": {
      "text/plain": [
       "0.8417081577939487"
      ]
     },
     "execution_count": 82,
     "metadata": {},
     "output_type": "execute_result"
    }
   ],
   "source": [
    "test_classifier(65)"
   ]
  },
  {
   "cell_type": "code",
   "execution_count": null,
   "metadata": {
    "collapsed": true
   },
   "outputs": [],
   "source": []
  }
 ],
 "metadata": {
  "kernelspec": {
   "display_name": "Python [conda env:jupyter-atp]",
   "language": "python",
   "name": "conda-env-jupyter-atp-py"
  },
  "language_info": {
   "codemirror_mode": {
    "name": "ipython",
    "version": 3
   },
   "file_extension": ".py",
   "mimetype": "text/x-python",
   "name": "python",
   "nbconvert_exporter": "python",
   "pygments_lexer": "ipython3",
   "version": "3.5.4"
  }
 },
 "nbformat": 4,
 "nbformat_minor": 2
}
