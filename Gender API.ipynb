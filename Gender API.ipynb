{
 "cells": [
  {
   "cell_type": "code",
   "execution_count": 1,
   "metadata": {},
   "outputs": [
    {
     "name": "stdout",
     "output_type": "stream",
     "text": [
      "Gender: male\n"
     ]
    }
   ],
   "source": [
    "# https://gender-api.com\n",
    "\n",
    "import json\n",
    "\n",
    "from urllib.request import urlopen\n",
    "\n",
    "\n",
    "\n",
    "myKey = \"insert your server key here\"\n",
    "\n",
    "url = \"https://gender-api.com/get?key=\" + myKey + \"&name=kevin\"\n",
    "\n",
    "response = urlopen(url)\n",
    "\n",
    "decoded = response.read().decode('utf-8')\n",
    "\n",
    "data = json.loads(decoded)\n",
    "\n",
    "print( \"Gender: \" + data[\"gender\"]); #Gender: male"
   ]
  },
  {
   "cell_type": "code",
   "execution_count": 15,
   "metadata": {
    "collapsed": true
   },
   "outputs": [],
   "source": [
    "def gender(firstname):\n",
    "    \n",
    "    myKey = \"insert your server key here\"\n",
    "\n",
    "    url = \"https://gender-api.com/get?key=\" + myKey + \"&name=\" + firstname\n",
    "\n",
    "    response = urlopen(url)\n",
    "\n",
    "    decoded = response.read().decode('utf-8')\n",
    "\n",
    "    data = json.loads(decoded)\n",
    "\n",
    "    gender = data[\"gender\"]\n",
    "    print(data);\n",
    "    return gender"
   ]
  },
  {
   "cell_type": "code",
   "execution_count": 14,
   "metadata": {},
   "outputs": [],
   "source": [
    "def gender2(firstname, lastname):\n",
    "    \n",
    "    myKey = \"insert your server key here\"\n",
    "\n",
    "    url = \"https://gender-api.com/get?key=\" + myKey + \"&split=\" + firstname + \"%20\" + lastname\n",
    "\n",
    "    response = urlopen(url)\n",
    "\n",
    "    decoded = response.read().decode('utf-8')\n",
    "\n",
    "    data = json.loads(decoded)\n",
    "\n",
    "    gender = data[\"gender\"]\n",
    "    print(data);\n",
    "    return gender"
   ]
  },
  {
   "cell_type": "code",
   "execution_count": 16,
   "metadata": {},
   "outputs": [
    {
     "name": "stdout",
     "output_type": "stream",
     "text": [
      "{'name': 'ellis', 'gender': 'male', 'samples': 1428, 'accuracy': 63, 'duration': '17ms'}\n"
     ]
    },
    {
     "data": {
      "text/plain": [
       "'male'"
      ]
     },
     "execution_count": 16,
     "metadata": {},
     "output_type": "execute_result"
    }
   ],
   "source": [
    "gender(\"ellis\")"
   ]
  },
  {
   "cell_type": "code",
   "execution_count": 17,
   "metadata": {},
   "outputs": [
    {
     "name": "stdout",
     "output_type": "stream",
     "text": [
      "{'last_name': 'Brown', 'first_name': 'Ellis', 'strict': False, 'name': 'ellis', 'gender': 'male', 'samples': 1428, 'accuracy': 63, 'duration': '166ms'}\n"
     ]
    },
    {
     "data": {
      "text/plain": [
       "'male'"
      ]
     },
     "execution_count": 17,
     "metadata": {},
     "output_type": "execute_result"
    }
   ],
   "source": [
    "gender2(\"ellis\", \"brown\")"
   ]
  },
  {
   "cell_type": "code",
   "execution_count": 18,
   "metadata": {},
   "outputs": [
    {
     "name": "stdout",
     "output_type": "stream",
     "text": [
      "{'name': 'alexa', 'gender': 'female', 'samples': 5720, 'accuracy': 95, 'duration': '65ms'}\n"
     ]
    },
    {
     "data": {
      "text/plain": [
       "'female'"
      ]
     },
     "execution_count": 18,
     "metadata": {},
     "output_type": "execute_result"
    }
   ],
   "source": [
    "gender(\"alexa\")"
   ]
  },
  {
   "cell_type": "code",
   "execution_count": 20,
   "metadata": {},
   "outputs": [
    {
     "name": "stdout",
     "output_type": "stream",
     "text": [
      "{'last_name': 'Francis', 'first_name': 'Alexa', 'strict': False, 'name': 'alexa', 'gender': 'female', 'samples': 5720, 'accuracy': 95, 'duration': '89ms'}\n"
     ]
    },
    {
     "data": {
      "text/plain": [
       "'female'"
      ]
     },
     "execution_count": 20,
     "metadata": {},
     "output_type": "execute_result"
    }
   ],
   "source": [
    "gender2(\"alexa\", \"francis\")"
   ]
  },
  {
   "cell_type": "code",
   "execution_count": null,
   "metadata": {
    "collapsed": true
   },
   "outputs": [],
   "source": []
  }
 ],
 "metadata": {
  "kernelspec": {
   "display_name": "Python [conda env:jupyter-python]",
   "language": "python",
   "name": "conda-env-jupyter-python-py"
  },
  "language_info": {
   "codemirror_mode": {
    "name": "ipython",
    "version": 3
   },
   "file_extension": ".py",
   "mimetype": "text/x-python",
   "name": "python",
   "nbconvert_exporter": "python",
   "pygments_lexer": "ipython3",
   "version": "3.6.2"
  }
 },
 "nbformat": 4,
 "nbformat_minor": 2
}
