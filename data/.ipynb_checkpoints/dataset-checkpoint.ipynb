{
 "cells": [
  {
   "cell_type": "markdown",
   "metadata": {},
   "source": [
    "# Name2gender dataset compilation"
   ]
  },
  {
   "cell_type": "code",
   "execution_count": 1,
   "metadata": {
    "collapsed": true
   },
   "outputs": [],
   "source": [
    "import csv\n",
    "import string\n",
    "import unicodedata\n",
    "import codecs"
   ]
  },
  {
   "cell_type": "code",
   "execution_count": 2,
   "metadata": {},
   "outputs": [],
   "source": [
    "# name-gen dict\n",
    "name_gender = {}\n",
    "\n",
    "# helper cleaning function (lowercase, unicode->ascii)\n",
    "def clean(s):\n",
    "    uncoded = ''.join(\n",
    "        c for c in unicodedata.normalize('NFD', s)\n",
    "        if unicodedata.category(c) != 'Mn'\n",
    "        and c in string.ascii_letters\n",
    "    )\n",
    "    return uncoded.lower()"
   ]
  },
  {
   "cell_type": "markdown",
   "metadata": {},
   "source": [
    "## Add NLTK names corpus\n",
    "We create the basic dataset from NLTK's male & female name corpora"
   ]
  },
  {
   "cell_type": "code",
   "execution_count": 3,
   "metadata": {},
   "outputs": [
    {
     "name": "stdout",
     "output_type": "stream",
     "text": [
      "[nltk_data] Downloading package names to /u1/elbrown/nltk_data...\n",
      "[nltk_data]   Package names is already up-to-date!\n"
     ]
    }
   ],
   "source": [
    "import nltk\n",
    "from nltk.corpus import names\n",
    "\n",
    "# download names corpus\n",
    "nltk.download(\"names\")\n",
    "\n",
    "# add nltk names\n",
    "male_names = names.words('male.txt')\n",
    "female_names = names.words('female.txt')\n",
    "labeled_names = ([(name, 'male') for name in male_names] + [(name, 'female') for name in female_names])"
   ]
  },
  {
   "cell_type": "code",
   "execution_count": 6,
   "metadata": {},
   "outputs": [
    {
     "data": {
      "text/plain": [
       "7553"
      ]
     },
     "execution_count": 6,
     "metadata": {},
     "output_type": "execute_result"
    }
   ],
   "source": [
    "for name,gender in labeled_names:\n",
    "    name = clean(name)\n",
    "    name_gender[name] = gender\n",
    "#     print(name)\n",
    "len(name_gender)"
   ]
  },
  {
   "cell_type": "markdown",
   "metadata": {},
   "source": [
    "## Add @mbejda datasets\n",
    "https://gist.github.com/mbejda\n",
    "* Black-Female-Names.csv     (~2,400 black (African American) female names)\n",
    "* Black-Male-Names.csv       (~50,000 black (African American) male names)\n",
    "* White-Female-Names.csv     (~4,500 white (Caucasian) female names)\n",
    "* White-Male-Names.csv       (~40,000 white (Caucasian) male names)\n",
    "* Hispanic-Female-Names.csv  (~200 hispanic female names)\n",
    "* Hispanic-Male-Names.csv    (~4,000 hispanic male names)"
   ]
  },
  {
   "cell_type": "markdown",
   "metadata": {},
   "source": [
    "## Add corpus from @mfran"
   ]
  },
  {
   "cell_type": "code",
   "execution_count": 11,
   "metadata": {},
   "outputs": [
    {
     "data": {
      "text/plain": [
       "128239"
      ]
     },
     "execution_count": 11,
     "metadata": {},
     "output_type": "execute_result"
    }
   ],
   "source": [
    "with codecs.open('mfran_names.csv', 'r', 'utf8') as file:\n",
    "    reader = csv.reader(file, delimiter=',')\n",
    "    for row in reader:\n",
    "        # in order to handle the few messed up records\n",
    "        gender = clean(row[-1])\n",
    "        name = clean(''.join(row[:-1]))\n",
    "        if not name in name_gender:\n",
    "            name_gender[name] = gender\n",
    "#             print(name)\n",
    "len(name_gender)"
   ]
  },
  {
   "cell_type": "markdown",
   "metadata": {},
   "source": [
    "## Add BlackRock user database"
   ]
  },
  {
   "cell_type": "code",
   "execution_count": 13,
   "metadata": {},
   "outputs": [
    {
     "data": {
      "text/plain": [
       "130551"
      ]
     },
     "execution_count": 13,
     "metadata": {},
     "output_type": "execute_result"
    }
   ],
   "source": [
    "with codecs.open('blk_names.csv', 'r', 'utf8') as blkfile:\n",
    "    reader = csv.reader(blkfile)\n",
    "    for row in reader:\n",
    "        name = clean(row[0])\n",
    "        gender = \"female\" if clean(''.join(row[-1])) == 'f' else \"male\"\n",
    "        if not name in name_gender:\n",
    "            name_gender[name] = gender\n",
    "#             print(name, gender)\n",
    "len(name_gender)"
   ]
  },
  {
   "cell_type": "code",
   "execution_count": null,
   "metadata": {
    "collapsed": true
   },
   "outputs": [],
   "source": [
    "# remove empty string entry\n",
    "name_gender.pop('')"
   ]
  },
  {
   "cell_type": "markdown",
   "metadata": {},
   "source": [
    "## Write dataset  to CSV"
   ]
  },
  {
   "cell_type": "code",
   "execution_count": null,
   "metadata": {},
   "outputs": [],
   "source": [
    "with open('namedata.csv', 'w', newline='') as out:\n",
    "    writer = csv.writer(out, delimiter=',')\n",
    "    for k,v in name_gender.items():\n",
    "        writer.writerow([k,v])\n",
    "        print(k,v)"
   ]
  },
  {
   "cell_type": "code",
   "execution_count": null,
   "metadata": {
    "collapsed": true
   },
   "outputs": [],
   "source": []
  }
 ],
 "metadata": {
  "kernelspec": {
   "display_name": "Python [conda env:jupyter-atp]",
   "language": "python",
   "name": "conda-env-jupyter-atp-py"
  },
  "language_info": {
   "codemirror_mode": {
    "name": "ipython",
    "version": 3
   },
   "file_extension": ".py",
   "mimetype": "text/x-python",
   "name": "python",
   "nbconvert_exporter": "python",
   "pygments_lexer": "ipython3",
   "version": "3.5.4"
  }
 },
 "nbformat": 4,
 "nbformat_minor": 2
}
